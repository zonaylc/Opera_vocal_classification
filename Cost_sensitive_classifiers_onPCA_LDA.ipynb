{
  "nbformat": 4,
  "nbformat_minor": 0,
  "metadata": {
    "colab": {
      "name": "Cost_sensitive_classifiers_onPCA/LDA.ipynb",
      "provenance": [],
      "collapsed_sections": []
    },
    "kernelspec": {
      "name": "python3",
      "display_name": "Python 3"
    },
    "accelerator": "GPU"
  },
  "cells": [
    {
      "cell_type": "code",
      "metadata": {
        "id": "8osI28KSZ_Xq",
        "colab": {
          "base_uri": "https://localhost:8080/",
          "height": 122
        },
        "outputId": "f98e659e-01d4-40bd-9756-db02c4eef712"
      },
      "source": [
        "# Connect to google drive\n",
        "from google.colab import drive\n",
        "drive.mount('/content/drive')"
      ],
      "execution_count": null,
      "outputs": [
        {
          "output_type": "stream",
          "text": [
            "Go to this URL in a browser: https://accounts.google.com/o/oauth2/auth?client_id=947318989803-6bn6qk8qdgf4n4g3pfee6491hc0brc4i.apps.googleusercontent.com&redirect_uri=urn%3aietf%3awg%3aoauth%3a2.0%3aoob&response_type=code&scope=email%20https%3a%2f%2fwww.googleapis.com%2fauth%2fdocs.test%20https%3a%2f%2fwww.googleapis.com%2fauth%2fdrive%20https%3a%2f%2fwww.googleapis.com%2fauth%2fdrive.photos.readonly%20https%3a%2f%2fwww.googleapis.com%2fauth%2fpeopleapi.readonly\n",
            "\n",
            "Enter your authorization code:\n",
            "··········\n",
            "Mounted at /content/drive\n"
          ],
          "name": "stdout"
        }
      ]
    },
    {
      "cell_type": "code",
      "metadata": {
        "id": "qdvPfogjadnv",
        "colab": {
          "base_uri": "https://localhost:8080/"
        },
        "outputId": "a800f749-ba5f-43aa-bcd4-607d43d99c9c"
      },
      "source": [
        "# Set working directory\n",
        "%cd /content/drive/My Drive/your_folder"
      ],
      "execution_count": 1,
      "outputs": [
        {
          "output_type": "stream",
          "name": "stdout",
          "text": [
            "[Errno 2] No such file or directory: '/content/drive/My Drive/your_folder'\n",
            "/content\n"
          ]
        }
      ]
    },
    {
      "cell_type": "code",
      "metadata": {
        "id": "AxZzNhelafUw",
        "colab": {
          "base_uri": "https://localhost:8080/",
          "height": 71
        },
        "outputId": "143aec30-c961-4498-f07c-d7d1d69beb4c"
      },
      "source": [
        "# Imports\n",
        "import numpy as np\n",
        "import pandas as pd\n",
        "import random\n",
        "from sklearn.decomposition import PCA\n",
        "from sklearn.discriminant_analysis import LinearDiscriminantAnalysis\n",
        "from sklearn.model_selection import cross_val_score\n",
        "from sklearn.pipeline import make_pipeline\n",
        "from sklearn.preprocessing import StandardScaler\n",
        "from sklearn.model_selection import train_test_split\n",
        "%matplotlib inline\n",
        "from IPython.core.pylabtools import figsize\n",
        "import matplotlib.pyplot as plt\n",
        "import seaborn as sns\n",
        "from sklearn.pipeline import Pipeline"
      ],
      "execution_count": null,
      "outputs": [
        {
          "output_type": "stream",
          "text": [
            "/usr/local/lib/python3.6/dist-packages/statsmodels/tools/_testing.py:19: FutureWarning: pandas.util.testing is deprecated. Use the functions in the public API at pandas.testing instead.\n",
            "  import pandas.util.testing as tm\n"
          ],
          "name": "stderr"
        }
      ]
    },
    {
      "cell_type": "markdown",
      "metadata": {
        "id": "PmaGPcmNbPvD"
      },
      "source": [
        "Loading the data"
      ]
    },
    {
      "cell_type": "code",
      "metadata": {
        "id": "cVijBwyObBOA",
        "colab": {
          "base_uri": "https://localhost:8080/",
          "height": 85
        },
        "outputId": "13d944f9-4b00-4c25-8543-d7c4da3c0c35"
      },
      "source": [
        "# Loading\n",
        "metadata = np.loadtxt(\"metadata.txt\", delimiter=\",\", skiprows=1, dtype=int)\n",
        "\n",
        "X = np.empty((0, 627))\n",
        "y_male = np.empty(0)\n",
        "y_female = np.empty(0)\n",
        "#y_choral = np.empty(0)\n",
        "performances = np.empty(0)\n",
        "\n",
        "num_file_pairs_to_load = 39\n",
        "\n",
        "for idx in range(1, num_file_pairs_to_load + 1):\n",
        "    samples = np.load('train%02d.npy' % idx, mmap_mode='r')\n",
        "    X = np.append(X, samples, axis=0)\n",
        "    performances = np.append(performances, np.full((len(samples),1), metadata[idx-1,1]))\n",
        "    \n",
        "    labels = np.load('train%02d.labels.npz' % idx)\n",
        "    y_male = np.append(y_male, labels['male'][:, 0])\n",
        "    y_female = np.append(y_female, labels['female'][:, 0])\n",
        "    #y_choral = np.append(y_choral, labels['choral'][:, 0])\n",
        "\n",
        "print(\"X shape:\", np.shape(X))\n",
        "print(\"y_male shape:\", np.shape(y_male))\n",
        "print(\"y_female shape:\", np.shape(y_female))\n",
        "#print(\"y_choral shape:\", np.shape(y_choral))\n",
        "print(\"performances shape:\", np.shape(performances))"
      ],
      "execution_count": null,
      "outputs": [
        {
          "output_type": "stream",
          "text": [
            "X shape: (297353, 627)\n",
            "y_male shape: (297353,)\n",
            "y_female shape: (297353,)\n",
            "performances shape: (297353,)\n"
          ],
          "name": "stdout"
        }
      ]
    },
    {
      "cell_type": "markdown",
      "metadata": {
        "id": "Mcr8BuQNTT6g"
      },
      "source": [
        "Sample the same number of samples from each performance"
      ]
    },
    {
      "cell_type": "code",
      "metadata": {
        "id": "0MMP68TtTXCb",
        "colab": {
          "base_uri": "https://localhost:8080/",
          "height": 68
        },
        "outputId": "98a35db5-2de1-4646-ec13-223d5d9d699a"
      },
      "source": [
        "# sample 9505 observations in each fold\n",
        "df = pd.DataFrame(X)\n",
        "df[\"Y_female\"] = y_female\n",
        "df[\"Y_male\"] = y_male\n",
        "df[\"performance\"] = performances\n",
        "df_sampled = pd.DataFrame(columns=df.columns)\n",
        "\n",
        "random.seed = 1234\n",
        "n_samples_per_performance = 9505\n",
        "for i in range(1,12):\n",
        "  df_temp = df[df[\"performance\"] == i].sample(n_samples_per_performance)\n",
        "  df_sampled = df_sampled.append(df_temp)\n",
        "\n",
        "# back to numpy arrays\n",
        "y_female = df_sampled[\"Y_female\"].to_numpy()\n",
        "y_male = df_sampled[\"Y_male\"].to_numpy()\n",
        "df_sampled = df_sampled.drop([\"Y_female\", \"Y_male\", \"performance\"], axis=1)\n",
        "X = df_sampled.to_numpy()\n",
        "\n",
        "print(\"X shape:\", np.shape(X))\n",
        "print(\"Y_male shape:\", np.shape(y_male))\n",
        "print(\"Y_female shape:\", np.shape(y_female))"
      ],
      "execution_count": null,
      "outputs": [
        {
          "output_type": "stream",
          "text": [
            "X shape: (104555, 627)\n",
            "Y_male shape: (104555,)\n",
            "Y_female shape: (104555,)\n"
          ],
          "name": "stdout"
        }
      ]
    },
    {
      "cell_type": "markdown",
      "metadata": {
        "id": "Fys5RgvHRalL"
      },
      "source": [
        "Data Obeservation"
      ]
    },
    {
      "cell_type": "code",
      "metadata": {
        "id": "rdCHt3VbhECZ",
        "colab": {
          "base_uri": "https://localhost:8080/",
          "height": 68
        },
        "outputId": "22dcbd06-33c0-4eec-a3fc-58bf2fbfd1f1"
      },
      "source": [
        "# show the Male label propotion\n",
        "target = pd.DataFrame(pd.Series(y_male).value_counts(), columns=('Frequency',))\n",
        "target['Percentage'] = target['Frequency'] / target['Frequency'].sum()\n",
        "target.index = ['Not-Male', 'Male']\n",
        "print(target)"
      ],
      "execution_count": null,
      "outputs": [
        {
          "output_type": "stream",
          "text": [
            "          Frequency  Percentage\n",
            "Not-Male      64402    0.615963\n",
            "Male          40153    0.384037\n"
          ],
          "name": "stdout"
        }
      ]
    },
    {
      "cell_type": "code",
      "metadata": {
        "id": "oRuQ2s1cBPf9",
        "colab": {
          "base_uri": "https://localhost:8080/",
          "height": 68
        },
        "outputId": "75f34563-0ad2-4cfe-e2b9-9cb6ea8113b5"
      },
      "source": [
        "# show the Female label propotion\n",
        "target = pd.DataFrame(pd.Series(y_female).value_counts(), columns=('Frequency',))\n",
        "target['Percentage'] = target['Frequency'] / target['Frequency'].sum()\n",
        "target.index = ['Not-Female', 'Female']\n",
        "print(target)"
      ],
      "execution_count": null,
      "outputs": [
        {
          "output_type": "stream",
          "text": [
            "            Frequency  Percentage\n",
            "Not-Female      71699    0.685754\n",
            "Female          32856    0.314246\n"
          ],
          "name": "stdout"
        }
      ]
    },
    {
      "cell_type": "code",
      "metadata": {
        "id": "VchLZ0iNHo-2",
        "colab": {
          "base_uri": "https://localhost:8080/",
          "height": 111
        },
        "outputId": "02ebb155-b14b-4f37-b060-f4b391b2df04"
      },
      "source": [
        "# show the each categories propotion\n",
        "dict = {'Male': y_male,\n",
        "        'Female': y_female,\n",
        "        'Male_Female': np.zeros(len(y_female)),\n",
        "        'Male_only': np.zeros(len(y_female)),\n",
        "        'Female_only': np.zeros(len(y_female)),\n",
        "        'Other': np.zeros(len(y_female))}\n",
        "mf = pd.DataFrame(dict)\n",
        "mf.loc[(mf['Male'] == 1) & (mf['Female'] == 1), 'Male_Female'] = 1\n",
        "mf.loc[(mf['Male'] == 1) & (mf['Female'] == 0), 'Male_only'] = 1\n",
        "mf.loc[(mf['Male'] == 0) & (mf['Female'] == 1), 'Female_only'] = 1\n",
        "mf.loc[(mf['Male'] == 0) & (mf['Female'] == 0), 'Other'] = 1\n",
        "\n",
        "freq_dict = {'Male': mf.Male.value_counts(),\n",
        "             'Female': mf.Female.value_counts(),\n",
        "             'Male_Female': mf.Male_Female.value_counts(),\n",
        "             'Male_only': mf.Male_only.value_counts(),\n",
        "             'Female_only': mf.Female_only.value_counts(),\n",
        "             'Other': mf.Other.value_counts()}\n",
        "\n",
        "target = pd.DataFrame(freq_dict)\n",
        "target.index = ['Negative', 'Positive']\n",
        "target"
      ],
      "execution_count": null,
      "outputs": [
        {
          "output_type": "execute_result",
          "data": {
            "text/html": [
              "<div>\n",
              "<style scoped>\n",
              "    .dataframe tbody tr th:only-of-type {\n",
              "        vertical-align: middle;\n",
              "    }\n",
              "\n",
              "    .dataframe tbody tr th {\n",
              "        vertical-align: top;\n",
              "    }\n",
              "\n",
              "    .dataframe thead th {\n",
              "        text-align: right;\n",
              "    }\n",
              "</style>\n",
              "<table border=\"1\" class=\"dataframe\">\n",
              "  <thead>\n",
              "    <tr style=\"text-align: right;\">\n",
              "      <th></th>\n",
              "      <th>Male</th>\n",
              "      <th>Female</th>\n",
              "      <th>Male_Female</th>\n",
              "      <th>Male_only</th>\n",
              "      <th>Female_only</th>\n",
              "      <th>Other</th>\n",
              "    </tr>\n",
              "  </thead>\n",
              "  <tbody>\n",
              "    <tr>\n",
              "      <th>Negative</th>\n",
              "      <td>64402</td>\n",
              "      <td>71699</td>\n",
              "      <td>98635</td>\n",
              "      <td>70322</td>\n",
              "      <td>77619</td>\n",
              "      <td>67089</td>\n",
              "    </tr>\n",
              "    <tr>\n",
              "      <th>Positive</th>\n",
              "      <td>40153</td>\n",
              "      <td>32856</td>\n",
              "      <td>5920</td>\n",
              "      <td>34233</td>\n",
              "      <td>26936</td>\n",
              "      <td>37466</td>\n",
              "    </tr>\n",
              "  </tbody>\n",
              "</table>\n",
              "</div>"
            ],
            "text/plain": [
              "           Male  Female  Male_Female  Male_only  Female_only  Other\n",
              "Negative  64402   71699        98635      70322        77619  67089\n",
              "Positive  40153   32856         5920      34233        26936  37466"
            ]
          },
          "metadata": {
            "tags": []
          },
          "execution_count": 8
        }
      ]
    },
    {
      "cell_type": "code",
      "metadata": {
        "id": "92DvD6YvNvUv",
        "colab": {
          "base_uri": "https://localhost:8080/",
          "height": 235
        },
        "outputId": "0e0ac688-ca9b-4846-89da-438711ee5443"
      },
      "source": [
        "#calculate the percentage\n",
        "target = target.T\n",
        "target['N-Percentage'] = target['Negative'] / (target['Negative'] + target['Positive'])\n",
        "target['P-Percentage'] = target['Positive'] / (target['Negative'] + target['Positive'])\n",
        "target"
      ],
      "execution_count": null,
      "outputs": [
        {
          "output_type": "execute_result",
          "data": {
            "text/html": [
              "<div>\n",
              "<style scoped>\n",
              "    .dataframe tbody tr th:only-of-type {\n",
              "        vertical-align: middle;\n",
              "    }\n",
              "\n",
              "    .dataframe tbody tr th {\n",
              "        vertical-align: top;\n",
              "    }\n",
              "\n",
              "    .dataframe thead th {\n",
              "        text-align: right;\n",
              "    }\n",
              "</style>\n",
              "<table border=\"1\" class=\"dataframe\">\n",
              "  <thead>\n",
              "    <tr style=\"text-align: right;\">\n",
              "      <th></th>\n",
              "      <th>Negative</th>\n",
              "      <th>Positive</th>\n",
              "      <th>N-Percentage</th>\n",
              "      <th>P-Percentage</th>\n",
              "    </tr>\n",
              "  </thead>\n",
              "  <tbody>\n",
              "    <tr>\n",
              "      <th>Male</th>\n",
              "      <td>64402</td>\n",
              "      <td>40153</td>\n",
              "      <td>0.615963</td>\n",
              "      <td>0.384037</td>\n",
              "    </tr>\n",
              "    <tr>\n",
              "      <th>Female</th>\n",
              "      <td>71699</td>\n",
              "      <td>32856</td>\n",
              "      <td>0.685754</td>\n",
              "      <td>0.314246</td>\n",
              "    </tr>\n",
              "    <tr>\n",
              "      <th>Male_Female</th>\n",
              "      <td>98635</td>\n",
              "      <td>5920</td>\n",
              "      <td>0.943379</td>\n",
              "      <td>0.056621</td>\n",
              "    </tr>\n",
              "    <tr>\n",
              "      <th>Male_only</th>\n",
              "      <td>70322</td>\n",
              "      <td>34233</td>\n",
              "      <td>0.672584</td>\n",
              "      <td>0.327416</td>\n",
              "    </tr>\n",
              "    <tr>\n",
              "      <th>Female_only</th>\n",
              "      <td>77619</td>\n",
              "      <td>26936</td>\n",
              "      <td>0.742375</td>\n",
              "      <td>0.257625</td>\n",
              "    </tr>\n",
              "    <tr>\n",
              "      <th>Other</th>\n",
              "      <td>67089</td>\n",
              "      <td>37466</td>\n",
              "      <td>0.641662</td>\n",
              "      <td>0.358338</td>\n",
              "    </tr>\n",
              "  </tbody>\n",
              "</table>\n",
              "</div>"
            ],
            "text/plain": [
              "             Negative  Positive  N-Percentage  P-Percentage\n",
              "Male            64402     40153      0.615963      0.384037\n",
              "Female          71699     32856      0.685754      0.314246\n",
              "Male_Female     98635      5920      0.943379      0.056621\n",
              "Male_only       70322     34233      0.672584      0.327416\n",
              "Female_only     77619     26936      0.742375      0.257625\n",
              "Other           67089     37466      0.641662      0.358338"
            ]
          },
          "metadata": {
            "tags": []
          },
          "execution_count": 9
        }
      ]
    },
    {
      "cell_type": "markdown",
      "metadata": {
        "id": "IRvDKnjD-3ig"
      },
      "source": [
        "Data Preparation - Cost Matrix"
      ]
    },
    {
      "cell_type": "code",
      "metadata": {
        "id": "1F7dnyWeRZ3P",
        "colab": {
          "base_uri": "https://localhost:8080/",
          "height": 357
        },
        "outputId": "e52e0d65-4d9d-4853-8efa-57fa93c5b2ea"
      },
      "source": [
        "# create the cost matrix\n",
        "# build a cost_mat[FP, FN, TP, TN]\n",
        "cost_mat = np.zeros(104555*4).reshape((104555,4))\n",
        "M_cost_mat = cost_mat.copy()\n",
        "F_cost_mat = cost_mat.copy()\n",
        "\n",
        "# compute the cost-matrix for each row: Male Classifiers\n",
        "for i in range(len(y_male)):\n",
        "# male with femal\n",
        "  if (y_male[i]==1) & (y_female[i]==1) :\n",
        "    M_cost_mat[i, 0] = 2 * (1/target['P-Percentage'][2]) #1\n",
        "    M_cost_mat[i, 1] = 2 * (1/target['P-Percentage'][2])\n",
        "\n",
        "  # male only\n",
        "  if (y_male[i]==1) & (y_female[i]==0) :\n",
        "    M_cost_mat[i:, 0] = 2 * (1/target['P-Percentage'][3]) #1\n",
        "    M_cost_mat[i:, 1] = 2 * (1/target['P-Percentage'][3])    \n",
        "\n",
        "  # female only\n",
        "  if (y_male[i]==0) & (y_female[i]==1) :\n",
        "    M_cost_mat[i, 0] = 2 * (1/target['P-Percentage'][4])\n",
        "    M_cost_mat[i, 1] = 2 * (1/target['P-Percentage'][4]) #1    \n",
        "  #other\n",
        "  if (y_male[i]==0) & (y_female[i]==0) :\n",
        "    M_cost_mat[i, 0] = 2 * (1/target['P-Percentage'][5])\n",
        "    M_cost_mat[i, 1] = 2 * (1/target['P-Percentage'][5]) #1     \n",
        "\n",
        "print(\"Male Cost Matrix:\\n\\n\", M_cost_mat)\n",
        "\n",
        "\n",
        "# compute the cost-matrix for each row: Female Classifiers\n",
        "for i in range(len(y_female)):\n",
        "# male with femal\n",
        "  if (y_male[i]==1) & (y_female[i]==1) :\n",
        "    F_cost_mat[i, 0] = 1\n",
        "    F_cost_mat[i, 1] = 2 * (1/target['P-Percentage'][2])\n",
        "\n",
        "  # male only\n",
        "  if (y_male[i]==1) & (y_female[i]==0) :\n",
        "    F_cost_mat[i:, 0] = 2 * (1/target['P-Percentage'][3])\n",
        "    F_cost_mat[i:, 1] = 1    \n",
        "\n",
        "  # female only\n",
        "  if (y_male[i]==0) & (y_female[i]==1) :\n",
        "    F_cost_mat[i, 0] = 1\n",
        "    F_cost_mat[i, 1] = 2 * (1/target['P-Percentage'][4])    \n",
        "  #other\n",
        "  if (y_male[i]==0) & (y_female[i]==0) :\n",
        "    F_cost_mat[i, 0] = 2 * (1/target['P-Percentage'][5])\n",
        "    F_cost_mat[i, 1] = 1      \n",
        "\n",
        "print(\"\\n\\nFemale Cost Matrix:\\n\\n\", F_cost_mat)"
      ],
      "execution_count": null,
      "outputs": [
        {
          "output_type": "stream",
          "text": [
            "Male Cost Matrix:\n",
            "\n",
            " [[5.58132707 5.58132707 0.         0.        ]\n",
            " [5.58132707 5.58132707 0.         0.        ]\n",
            " [6.10843338 6.10843338 0.         0.        ]\n",
            " ...\n",
            " [5.58132707 5.58132707 0.         0.        ]\n",
            " [7.76321651 7.76321651 0.         0.        ]\n",
            " [6.10843338 6.10843338 0.         0.        ]]\n",
            "\n",
            "\n",
            "Female Cost Matrix:\n",
            "\n",
            " [[5.58132707 1.         0.         0.        ]\n",
            " [5.58132707 1.         0.         0.        ]\n",
            " [6.10843338 1.         0.         0.        ]\n",
            " ...\n",
            " [5.58132707 1.         0.         0.        ]\n",
            " [1.         7.76321651 0.         0.        ]\n",
            " [6.10843338 1.         0.         0.        ]]\n"
          ],
          "name": "stdout"
        }
      ]
    },
    {
      "cell_type": "markdown",
      "metadata": {
        "id": "uzJQS56_frQ-"
      },
      "source": [
        "Data Preparation - Train Test Split"
      ]
    },
    {
      "cell_type": "code",
      "metadata": {
        "id": "s_Nxdi8Obe1J",
        "colab": {
          "base_uri": "https://localhost:8080/",
          "height": 119
        },
        "outputId": "eec1cf70-9754-42d7-b663-e2a835d8436e"
      },
      "source": [
        "#prepare training data\n",
        "#transform the data\n",
        "scaler = StandardScaler()\n",
        "X = scaler.fit_transform(X)\n",
        "\n",
        "# Male:take performance1(9505 records) as training data:\n",
        "sets = train_test_split(X, y_male, M_cost_mat, test_size=0.9090909090909091, random_state=False, shuffle=False)\n",
        "X_train, X_test, m_y_train, m_y_test, m_cost_mat_train, m_cost_mat_test = sets\n",
        "\n",
        "# Female\n",
        "f_y_train = y_female[:9505]\n",
        "f_cost_mat_train = F_cost_mat[:9505]\n",
        "\n",
        "#take part of testing data\n",
        "X_test = X_test[:4074]\n",
        "m_y_test = m_y_test[:4074]\n",
        "m_cost_mat_test = m_cost_mat_test[:4074]\n",
        "f_y_test = y_female[9505:13579]\n",
        "f_cost_mat_test = F_cost_mat[9505:13579]\n",
        "\n",
        "print(\"X Train:\", X_train.shape)\n",
        "print(\"Y Train(male/female):\", m_y_train.shape, f_y_train.shape)\n",
        "print(\"X Test:\", X_test.shape)\n",
        "print(\"Y Test(male/female):\", m_y_test.shape, f_y_test.shape)\n",
        "print(\"Cost Matrix(male/female):\", m_cost_mat_train.shape, f_cost_mat_train.shape)\n",
        "print(\"Test Cost Matrix(male/female):\", m_cost_mat_test.shape, f_cost_mat_test.shape)"
      ],
      "execution_count": null,
      "outputs": [
        {
          "output_type": "stream",
          "text": [
            "X Train: (9505, 627)\n",
            "Y Train(male/female): (9505,) (9505,)\n",
            "X Test: (4074, 627)\n",
            "Y Test(male/female): (4074,) (4074,)\n",
            "Cost Matrix(male/female): (9505, 4) (9505, 4)\n",
            "Test Cost Matrix(male/female): (4074, 4) (4074, 4)\n"
          ],
          "name": "stdout"
        }
      ]
    },
    {
      "cell_type": "markdown",
      "metadata": {
        "id": "BPCZO57o0_bp"
      },
      "source": [
        "Pre-processing - Dimensional reduction"
      ]
    },
    {
      "cell_type": "markdown",
      "metadata": {
        "id": "31ukFwdX1lRp"
      },
      "source": [
        "**PCA**"
      ]
    },
    {
      "cell_type": "code",
      "metadata": {
        "id": "JYQE4MCm0-0z",
        "colab": {
          "base_uri": "https://localhost:8080/",
          "height": 34
        },
        "outputId": "684070bf-353b-4a60-8cd7-1b0606e10da9"
      },
      "source": [
        "# Calculate cumsum\n",
        "pca = PCA().fit(X_train)\n",
        "cum_sum = np.cumsum(pca.explained_variance_ratio_)\n",
        "\n",
        "# Find the best number of components\n",
        "CUMSUM_THR = 0.95\n",
        "num_components = 0\n",
        "i = 0\n",
        "while i < len(cum_sum):\n",
        "    if cum_sum[i] > CUMSUM_THR:\n",
        "        print(\"Best num_components = \" + str(i) + \"   variance: \" + str(cum_sum[i]))\n",
        "        num_components = i\n",
        "        break\n",
        "    i += 1\n",
        "\n",
        "if (num_components == 0): print(\"Best num_components not found\")"
      ],
      "execution_count": null,
      "outputs": [
        {
          "output_type": "stream",
          "text": [
            "Best num_components = 161   variance: 0.9504727922270872\n"
          ],
          "name": "stdout"
        }
      ]
    },
    {
      "cell_type": "markdown",
      "metadata": {
        "id": "rCjc6D4_2HXh"
      },
      "source": [
        "**LDA**"
      ]
    },
    {
      "cell_type": "code",
      "metadata": {
        "id": "t_CSTByE2dun"
      },
      "source": [
        "# Create a function to select the best component\n",
        "def select_n_components(var_ratio, goal_var: float) -> int:\n",
        "    # Set initial variance explained so far\n",
        "    total_variance = 0.0\n",
        "    \n",
        "    # Set initial number of features\n",
        "    n_components = 0\n",
        "    \n",
        "    # For the explained variance of each feature:\n",
        "    for explained_variance in var_ratio:\n",
        "        \n",
        "        # Add the explained variance to the total\n",
        "        total_variance += explained_variance\n",
        "        \n",
        "        # Add one to the number of components\n",
        "        n_components += 1\n",
        "        \n",
        "        # If we reach our goal level of explained variance\n",
        "        if total_variance >= goal_var:\n",
        "            # End the loop\n",
        "            break\n",
        "            \n",
        "    # Return the number of components\n",
        "    return n_components\n",
        "\n",
        "\n",
        "###Function for finding the best component and build LDA\n",
        "\n",
        "def select_lda(X_train, Y_train):\n",
        "\n",
        "  # Create an LDA\n",
        "  lda = LinearDiscriminantAnalysis()\n",
        "\n",
        "  # run an LDA and use it to transform the features\n",
        "  X_lda = lda.fit(X_train, Y_train).transform(X_train)\n",
        "\n",
        "  # Print the number of features\n",
        "  print('Original number of features:', X_train.shape[1])\n",
        "  print('Reduced number of features:', X_lda.shape[1])\n",
        "\n",
        "  # View the ratio of explained variance\n",
        "  print(lda.explained_variance_ratio_)\n",
        "  # show the bwst component number\n",
        "  select_C = select_n_components(lda.explained_variance_ratio_, 0.95)\n",
        "  print(select_C)"
      ],
      "execution_count": null,
      "outputs": []
    },
    {
      "cell_type": "code",
      "metadata": {
        "id": "r6Fdt6712Grg",
        "colab": {
          "base_uri": "https://localhost:8080/",
          "height": 153
        },
        "outputId": "ee672d67-4039-49ab-a37d-6b82847e8070"
      },
      "source": [
        "#Male\n",
        "select_lda(X_train, m_y_train)\n",
        "#Female\n",
        "select_lda(X_train, f_y_train)"
      ],
      "execution_count": null,
      "outputs": [
        {
          "output_type": "stream",
          "text": [
            "Original number of features: 627\n",
            "Reduced number of features: 1\n",
            "[1.]\n",
            "1\n",
            "Original number of features: 627\n",
            "Reduced number of features: 1\n",
            "[1.]\n",
            "1\n"
          ],
          "name": "stdout"
        }
      ]
    },
    {
      "cell_type": "code",
      "metadata": {
        "id": "wzKMF7XigxNX",
        "colab": {
          "base_uri": "https://localhost:8080/",
          "height": 68
        },
        "outputId": "07f9d9fb-efe2-4de2-9dd9-9571831722a2"
      },
      "source": [
        "# Apply preprocessing\n",
        "# Perform PCA\n",
        "pca = PCA(n_components=159)\n",
        "X_PCA_train = pca.fit(X_train).transform(X_train)\n",
        "print(\"PCA_train shape:\", np.shape(X_PCA_train))\n",
        "\n",
        "# perform LDA\n",
        "# Male\n",
        "lda = LinearDiscriminantAnalysis(n_components=1)\n",
        "mX_LDA_train = lda.fit(X_train, m_y_train).transform(X_train)\n",
        "print(\"LDA_train shape:\", np.shape(mX_LDA_train))\n",
        "\n",
        "# Female\n",
        "fX_LDA_train = lda.fit(X_train, f_y_train).transform(X_train)\n",
        "print(\"LDA_train shape:\", np.shape(fX_LDA_train))"
      ],
      "execution_count": null,
      "outputs": [
        {
          "output_type": "stream",
          "text": [
            "PCA_train shape: (9505, 159)\n",
            "LDA_train shape: (9505, 1)\n",
            "LDA_train shape: (9505, 1)\n"
          ],
          "name": "stdout"
        }
      ]
    },
    {
      "cell_type": "code",
      "metadata": {
        "id": "H469opijibfE",
        "colab": {
          "base_uri": "https://localhost:8080/",
          "height": 68
        },
        "outputId": "5310ca75-65b9-4626-fa5e-a7c646be0f3d"
      },
      "source": [
        "# Apply preprocessing to testing data\n",
        "\n",
        "# PCA\n",
        "X_PCA_test = pca.fit(X_train).transform(X_test)\n",
        "print(\"PCA_test shape:\", np.shape(X_PCA_test))\n",
        "\n",
        "# LDA\n",
        "# Male\n",
        "mX_LDA_test = lda.fit(X_train, m_y_train).transform(X_test)\n",
        "print(\"LDA_test shape:\", np.shape(mX_LDA_test))\n",
        "\n",
        "# Female\n",
        "fX_LDA_test = lda.fit(X_train, f_y_train).transform(X_test)\n",
        "print(\"LDA_test shape:\", np.shape(fX_LDA_test))"
      ],
      "execution_count": null,
      "outputs": [
        {
          "output_type": "stream",
          "text": [
            "PCA_test shape: (4074, 159)\n",
            "LDA_test shape: (4074, 1)\n",
            "LDA_test shape: (4074, 1)\n"
          ],
          "name": "stdout"
        }
      ]
    },
    {
      "cell_type": "markdown",
      "metadata": {
        "id": "5WidraSwfc-m"
      },
      "source": [
        "Cost-Sensitive Learning Classifiers"
      ]
    },
    {
      "cell_type": "code",
      "metadata": {
        "id": "HMcW0BJxgRav",
        "colab": {
          "base_uri": "https://localhost:8080/",
          "height": 377
        },
        "outputId": "923be371-895a-4352-8dc6-c02c566bac14"
      },
      "source": [
        "#install costla package\n",
        "!pip install costcla"
      ],
      "execution_count": null,
      "outputs": [
        {
          "output_type": "stream",
          "text": [
            "Collecting costcla\n",
            "\u001b[?25l  Downloading https://files.pythonhosted.org/packages/88/c4/1e2e6495e81d37c974d7f8ce6720afbe695bb1a918358aba72c5e1df7efe/costcla-0.6-py3-none-any.whl (4.0MB)\n",
            "\u001b[K     |████████████████████████████████| 4.0MB 4.6MB/s \n",
            "\u001b[?25hRequirement already satisfied: numpy>=1.8.0 in /usr/local/lib/python3.6/dist-packages (from costcla) (1.18.5)\n",
            "Collecting pyea>=0.2\n",
            "  Downloading https://files.pythonhosted.org/packages/e0/d1/628c0a358b105f4d3a33f46ac31b18f3ff468cd3402c73f3c0e9d02da025/pyea-0.2.tar.gz\n",
            "Requirement already satisfied: pandas>=0.14.0 in /usr/local/lib/python3.6/dist-packages (from costcla) (1.0.4)\n",
            "Requirement already satisfied: scikit-learn>=0.15.0b2 in /usr/local/lib/python3.6/dist-packages (from costcla) (0.22.2.post1)\n",
            "Requirement already satisfied: python-dateutil>=2.6.1 in /usr/local/lib/python3.6/dist-packages (from pandas>=0.14.0->costcla) (2.8.1)\n",
            "Requirement already satisfied: pytz>=2017.2 in /usr/local/lib/python3.6/dist-packages (from pandas>=0.14.0->costcla) (2018.9)\n",
            "Requirement already satisfied: joblib>=0.11 in /usr/local/lib/python3.6/dist-packages (from scikit-learn>=0.15.0b2->costcla) (0.15.1)\n",
            "Requirement already satisfied: scipy>=0.17.0 in /usr/local/lib/python3.6/dist-packages (from scikit-learn>=0.15.0b2->costcla) (1.4.1)\n",
            "Requirement already satisfied: six>=1.5 in /usr/local/lib/python3.6/dist-packages (from python-dateutil>=2.6.1->pandas>=0.14.0->costcla) (1.12.0)\n",
            "Building wheels for collected packages: pyea\n",
            "  Building wheel for pyea (setup.py) ... \u001b[?25l\u001b[?25hdone\n",
            "  Created wheel for pyea: filename=pyea-0.2-cp36-none-any.whl size=6017 sha256=a5e09aa849175a585f9ea86ceb6fb40ae10b891953003f881433779fc3464a1d\n",
            "  Stored in directory: /root/.cache/pip/wheels/3c/bf/6e/06f8b0ed23cbc1fe956f8b6756535cb36f0b68c2f0f2342178\n",
            "Successfully built pyea\n",
            "Installing collected packages: pyea, costcla\n",
            "Successfully installed costcla-0.6 pyea-0.2\n"
          ],
          "name": "stdout"
        }
      ]
    },
    {
      "cell_type": "markdown",
      "metadata": {
        "id": "BB1Hx7EDujha"
      },
      "source": [
        "Define Functions"
      ]
    },
    {
      "cell_type": "code",
      "metadata": {
        "id": "71M73P0iefNT"
      },
      "source": [
        "# set the pipelines\n"
      ],
      "execution_count": null,
      "outputs": []
    },
    {
      "cell_type": "code",
      "metadata": {
        "id": "yUQpcJrxhLu9",
        "colab": {
          "base_uri": "https://localhost:8080/",
          "height": 139
        },
        "outputId": "7383b116-f296-4775-ebc1-35804a1b61d6"
      },
      "source": [
        "#Import libaries\n",
        "from costcla.metrics import savings_score, cost_loss\n",
        "from sklearn.metrics import f1_score, precision_score, recall_score, accuracy_score\n",
        "# Load classifiers\n",
        "from sklearn.linear_model import LogisticRegression\n",
        "from sklearn.tree import DecisionTreeClassifier\n",
        "from sklearn.ensemble import RandomForestClassifier\n",
        "#Load cost-sensitive classifiers\n",
        "from costcla.models import CostSensitiveLogisticRegression\n",
        "from costcla.models import CostSensitiveDecisionTreeClassifier\n",
        "from costcla.models import CostSensitiveRandomForestClassifier\n",
        "\n",
        "\n",
        "def compare_classifiers(X_train, X_test, y_train, y_test, cost_mat_train, cost_mat_test):\n",
        "  # Fit the classifiers using the training dataset\n",
        "  classifiers = {\"RF\": {\"f\": RandomForestClassifier()},\n",
        "                \"DT\": {\"f\": DecisionTreeClassifier()},\n",
        "                \"LR\": {\"f\": LogisticRegression()}}\n",
        "\n",
        "\n",
        "  #Prediction for non-cost-sensitive classifier\n",
        "  for model in classifiers.keys():\n",
        "      #Fit\n",
        "      classifiers[model][\"f\"].fit(X_train, y_train)\n",
        "      # Predict\n",
        "      classifiers[model][\"c\"] = classifiers[model][\"f\"].predict(X_test)\n",
        "      classifiers[model][\"p\"] = classifiers[model][\"f\"].predict_proba(X_test)\n",
        "      classifiers[model][\"p_train\"] = classifiers[model][\"f\"].predict_proba(X_train)\n",
        "       \n",
        "\n",
        "  # Evaluate the performance\n",
        "  measures = {\"f1\": f1_score, \"pre\": precision_score, \n",
        "              \"rec\": recall_score, \"acc\": accuracy_score}\n",
        "  global results            \n",
        "  results = pd.DataFrame(columns=measures.keys())\n",
        "\n",
        "  # Evaluate each model in classifiers\n",
        "  for model in classifiers.keys():\n",
        "      results.loc[model] = [measures[measure](y_test, classifiers[model][\"c\"]) for measure in measures.keys()]\n",
        " \n",
        "\n",
        "  # Evaluate the savings for each model\n",
        "  results[\"sav\"] = np.zeros(results.shape[0])\n",
        "  for model in classifiers.keys():\n",
        "      results[\"sav\"].loc[model] = savings_score(y_test, classifiers[model][\"c\"], cost_mat_test)    \n",
        "\n",
        "  #Build cost-sensitive classifiers\n",
        "  classifiers[\"CS-RF\"] = {\"f\": CostSensitiveRandomForestClassifier()}\n",
        "  classifiers[\"CS-DT\"] = {\"f\": CostSensitiveDecisionTreeClassifier()}\n",
        "  classifiers[\"CS-LR\"] = {\"f\": CostSensitiveLogisticRegression()}\n",
        "\n",
        "  for model in list(classifiers)[3:6]:\n",
        "    # Fit\n",
        "    classifiers[model][\"f\"].fit(X_train, y_train, cost_mat_train)\n",
        "    # Predict\n",
        "    classifiers[model][\"c\"] = classifiers[model][\"f\"].predict(X_test)\n",
        "    # Evaluate\n",
        "    results.loc[model] = 0\n",
        "    results.loc[model, measures.keys()] = \\\n",
        "    [measures[measure](y_test, classifiers[model][\"c\"]) for measure in measures.keys()]\n",
        "    results[\"sav\"].loc[model] = savings_score(y_test, classifiers[model][\"c\"], cost_mat_test)\n",
        "\n",
        "  return results\n",
        "\n",
        "\n",
        "#plotting functions\n",
        "def plot_performance(result):\n",
        "  figsize(10, 5)\n",
        "  ax = plt.subplot(111)\n",
        "\n",
        "  ind = np.arange(result.shape[0])\n",
        "  width = 0.2\n",
        "  l = ax.plot(ind, results, \"-o\")\n",
        "  plt.legend(iter(l), results.columns.tolist(), loc='center left', bbox_to_anchor=(1, 0.5))\n",
        "  ax.set_xlim([-0.25, ind[-1]+.25])\n",
        "  ax.set_xticks(ind)\n",
        "  ax.set_xticklabels(results.index)\n",
        "  plt.show()  \n",
        "\n",
        "\n",
        "def plot_comparison(results):\n",
        "  colors = sns.color_palette()\n",
        "  \n",
        "  ind = np.arange(results.shape[0])\n",
        "  figsize(10, 5)\n",
        "  ax = plt.subplot(111)\n",
        "  l = ax.plot(ind, results[\"f1\"], \"-o\", label='F1Score', color=colors[2])\n",
        "  b = ax.bar(ind-0.3, results['sav'], 0.6, label='Savings', color=colors[0])\n",
        "  plt.legend(loc='center left', bbox_to_anchor=(1, 0.5))\n",
        "  ax.set_xlim([-0.5, ind[-1]+.5])\n",
        "  ax.set_xticks(ind)\n",
        "  ax.set_xticklabels(results.index)\n",
        "  plt.show()  "
      ],
      "execution_count": null,
      "outputs": [
        {
          "output_type": "stream",
          "text": [
            "/usr/local/lib/python3.6/dist-packages/sklearn/externals/joblib/__init__.py:15: FutureWarning: sklearn.externals.joblib is deprecated in 0.21 and will be removed in 0.23. Please import this functionality directly from joblib, which can be installed with: pip install joblib. If this warning is raised when loading pickled models, you may need to re-serialize those models with scikit-learn 0.21+.\n",
            "  warnings.warn(msg, category=FutureWarning)\n",
            "/usr/local/lib/python3.6/dist-packages/sklearn/externals/six.py:31: FutureWarning: The module is deprecated in version 0.21 and will be removed in version 0.23 since we've dropped support for Python 2.7. Please rely on the official version of six (https://pypi.org/project/six/).\n",
            "  \"(https://pypi.org/project/six/).\", FutureWarning)\n",
            "/usr/local/lib/python3.6/dist-packages/sklearn/utils/deprecation.py:144: FutureWarning: The sklearn.ensemble.base module is  deprecated in version 0.22 and will be removed in version 0.24. The corresponding classes / functions should instead be imported from sklearn.ensemble. Anything that cannot be imported from sklearn.ensemble is now part of the private API.\n",
            "  warnings.warn(message, FutureWarning)\n"
          ],
          "name": "stderr"
        }
      ]
    },
    {
      "cell_type": "code",
      "metadata": {
        "id": "fsNKxaqRFS9S",
        "colab": {
          "base_uri": "https://localhost:8080/",
          "height": 187
        },
        "outputId": "5342a949-4658-4ecb-bc71-335e4281dcf1"
      },
      "source": [
        "#Male classifiers performances with PCA\n",
        "compare_classifiers(X_PCA_train, X_PCA_test, m_y_train, m_y_test, m_cost_mat_train, m_cost_mat_test)\n",
        "male_result = results"
      ],
      "execution_count": null,
      "outputs": [
        {
          "output_type": "stream",
          "text": [
            "/usr/local/lib/python3.6/dist-packages/sklearn/linear_model/_logistic.py:940: ConvergenceWarning: lbfgs failed to converge (status=1):\n",
            "STOP: TOTAL NO. of ITERATIONS REACHED LIMIT.\n",
            "\n",
            "Increase the number of iterations (max_iter) or scale the data as shown in:\n",
            "    https://scikit-learn.org/stable/modules/preprocessing.html\n",
            "Please also refer to the documentation for alternative solver options:\n",
            "    https://scikit-learn.org/stable/modules/linear_model.html#logistic-regression\n",
            "  extra_warning_msg=_LOGISTIC_SOLVER_CONVERGENCE_MSG)\n",
            "/usr/local/lib/python3.6/dist-packages/costcla/models/regression.py:45: RuntimeWarning: overflow encountered in exp\n",
            "  return 1 / (1 + np.exp(-z))\n"
          ],
          "name": "stderr"
        }
      ]
    },
    {
      "cell_type": "code",
      "metadata": {
        "id": "tB_J7ZDv1mdg",
        "colab": {
          "base_uri": "https://localhost:8080/",
          "height": 235
        },
        "outputId": "b78453c3-8079-4639-d8a7-c50d184e663a"
      },
      "source": [
        "male_result"
      ],
      "execution_count": null,
      "outputs": [
        {
          "output_type": "execute_result",
          "data": {
            "text/html": [
              "<div>\n",
              "<style scoped>\n",
              "    .dataframe tbody tr th:only-of-type {\n",
              "        vertical-align: middle;\n",
              "    }\n",
              "\n",
              "    .dataframe tbody tr th {\n",
              "        vertical-align: top;\n",
              "    }\n",
              "\n",
              "    .dataframe thead th {\n",
              "        text-align: right;\n",
              "    }\n",
              "</style>\n",
              "<table border=\"1\" class=\"dataframe\">\n",
              "  <thead>\n",
              "    <tr style=\"text-align: right;\">\n",
              "      <th></th>\n",
              "      <th>f1</th>\n",
              "      <th>pre</th>\n",
              "      <th>rec</th>\n",
              "      <th>acc</th>\n",
              "      <th>sav</th>\n",
              "    </tr>\n",
              "  </thead>\n",
              "  <tbody>\n",
              "    <tr>\n",
              "      <th>RF</th>\n",
              "      <td>0.800922</td>\n",
              "      <td>0.881557</td>\n",
              "      <td>0.733803</td>\n",
              "      <td>0.872852</td>\n",
              "      <td>0.417394</td>\n",
              "    </tr>\n",
              "    <tr>\n",
              "      <th>DT</th>\n",
              "      <td>0.678969</td>\n",
              "      <td>0.671488</td>\n",
              "      <td>0.686620</td>\n",
              "      <td>0.773687</td>\n",
              "      <td>0.295595</td>\n",
              "    </tr>\n",
              "    <tr>\n",
              "      <th>LR</th>\n",
              "      <td>0.807444</td>\n",
              "      <td>0.876340</td>\n",
              "      <td>0.748592</td>\n",
              "      <td>0.875552</td>\n",
              "      <td>0.419576</td>\n",
              "    </tr>\n",
              "    <tr>\n",
              "      <th>CS-RF</th>\n",
              "      <td>0.708223</td>\n",
              "      <td>0.669173</td>\n",
              "      <td>0.752113</td>\n",
              "      <td>0.783996</td>\n",
              "      <td>0.466492</td>\n",
              "    </tr>\n",
              "    <tr>\n",
              "      <th>CS-DT</th>\n",
              "      <td>0.742953</td>\n",
              "      <td>0.709615</td>\n",
              "      <td>0.779577</td>\n",
              "      <td>0.811978</td>\n",
              "      <td>0.474532</td>\n",
              "    </tr>\n",
              "    <tr>\n",
              "      <th>CS-LR</th>\n",
              "      <td>0.308464</td>\n",
              "      <td>0.293818</td>\n",
              "      <td>0.324648</td>\n",
              "      <td>0.492636</td>\n",
              "      <td>-0.441752</td>\n",
              "    </tr>\n",
              "  </tbody>\n",
              "</table>\n",
              "</div>"
            ],
            "text/plain": [
              "             f1       pre       rec       acc       sav\n",
              "RF     0.800922  0.881557  0.733803  0.872852  0.417394\n",
              "DT     0.678969  0.671488  0.686620  0.773687  0.295595\n",
              "LR     0.807444  0.876340  0.748592  0.875552  0.419576\n",
              "CS-RF  0.708223  0.669173  0.752113  0.783996  0.466492\n",
              "CS-DT  0.742953  0.709615  0.779577  0.811978  0.474532\n",
              "CS-LR  0.308464  0.293818  0.324648  0.492636 -0.441752"
            ]
          },
          "metadata": {
            "tags": []
          },
          "execution_count": 21
        }
      ]
    },
    {
      "cell_type": "code",
      "metadata": {
        "id": "RNedzbtlEYQw",
        "colab": {
          "base_uri": "https://localhost:8080/",
          "height": 320
        },
        "outputId": "95e5be5d-64a5-4848-d4b2-d903e581d98c"
      },
      "source": [
        "plot_performance(male_result)"
      ],
      "execution_count": null,
      "outputs": [
        {
          "output_type": "display_data",
          "data": {
            "image/png": "[encoded data removed]",
            "text/plain": [
              "<Figure size 720x360 with 1 Axes>"
            ]
          },
          "metadata": {
            "tags": [],
            "needs_background": "light"
          }
        }
      ]
    },
    {
      "cell_type": "code",
      "metadata": {
        "id": "NsFC0SGXEboC",
        "colab": {
          "base_uri": "https://localhost:8080/",
          "height": 320
        },
        "outputId": "709ecf3b-42f8-401d-fb45-bc4b0b078bf2"
      },
      "source": [
        "plot_comparison(male_result)"
      ],
      "execution_count": null,
      "outputs": [
        {
          "output_type": "display_data",
          "data": {
            "image/png": "[encoded data removed]",
            "text/plain": [
              "<Figure size 720x360 with 1 Axes>"
            ]
          },
          "metadata": {
            "tags": [],
            "needs_background": "light"
          }
        }
      ]
    },
    {
      "cell_type": "code",
      "metadata": {
        "id": "BCj-7cSik8dm"
      },
      "source": [
        "#Male classifiers performances with LDA\n",
        "compare_classifiers(mX_LDA_train, mX_LDA_test, m_y_train, m_y_test, m_cost_mat_train, m_cost_mat_test)\n",
        "lda_male_result = results"
      ],
      "execution_count": null,
      "outputs": []
    },
    {
      "cell_type": "code",
      "metadata": {
        "id": "itIYKr-7SE9l"
      },
      "source": [
        "###2\n",
        "#Male classifiers performances with LDA\n",
        "compare_classifiers(mX_LDA_train, mX_LDA_test, m_y_train, m_y_test, m_cost_mat_train, m_cost_mat_test)\n",
        "lda_male_result = results"
      ],
      "execution_count": null,
      "outputs": []
    },
    {
      "cell_type": "code",
      "metadata": {
        "id": "0ebWSFyslVWk",
        "colab": {
          "base_uri": "https://localhost:8080/",
          "height": 235
        },
        "outputId": "18881c0b-715c-4788-e930-6c51ea5b9a3b"
      },
      "source": [
        "lda_male_result"
      ],
      "execution_count": null,
      "outputs": [
        {
          "output_type": "execute_result",
          "data": {
            "text/html": [
              "<div>\n",
              "<style scoped>\n",
              "    .dataframe tbody tr th:only-of-type {\n",
              "        vertical-align: middle;\n",
              "    }\n",
              "\n",
              "    .dataframe tbody tr th {\n",
              "        vertical-align: top;\n",
              "    }\n",
              "\n",
              "    .dataframe thead th {\n",
              "        text-align: right;\n",
              "    }\n",
              "</style>\n",
              "<table border=\"1\" class=\"dataframe\">\n",
              "  <thead>\n",
              "    <tr style=\"text-align: right;\">\n",
              "      <th></th>\n",
              "      <th>f1</th>\n",
              "      <th>pre</th>\n",
              "      <th>rec</th>\n",
              "      <th>acc</th>\n",
              "      <th>sav</th>\n",
              "    </tr>\n",
              "  </thead>\n",
              "  <tbody>\n",
              "    <tr>\n",
              "      <th>RF</th>\n",
              "      <td>0.803779</td>\n",
              "      <td>0.830330</td>\n",
              "      <td>0.778873</td>\n",
              "      <td>0.867452</td>\n",
              "      <td>0.489308</td>\n",
              "    </tr>\n",
              "    <tr>\n",
              "      <th>DT</th>\n",
              "      <td>0.803344</td>\n",
              "      <td>0.830203</td>\n",
              "      <td>0.778169</td>\n",
              "      <td>0.867207</td>\n",
              "      <td>0.487325</td>\n",
              "    </tr>\n",
              "    <tr>\n",
              "      <th>LR</th>\n",
              "      <td>0.839700</td>\n",
              "      <td>0.896800</td>\n",
              "      <td>0.789437</td>\n",
              "      <td>0.894944</td>\n",
              "      <td>0.516649</td>\n",
              "    </tr>\n",
              "    <tr>\n",
              "      <th>CS-RF</th>\n",
              "      <td>0.867147</td>\n",
              "      <td>0.845948</td>\n",
              "      <td>0.889437</td>\n",
              "      <td>0.905007</td>\n",
              "      <td>0.671977</td>\n",
              "    </tr>\n",
              "    <tr>\n",
              "      <th>CS-DT</th>\n",
              "      <td>0.868631</td>\n",
              "      <td>0.855290</td>\n",
              "      <td>0.882394</td>\n",
              "      <td>0.906971</td>\n",
              "      <td>0.664042</td>\n",
              "    </tr>\n",
              "    <tr>\n",
              "      <th>CS-LR</th>\n",
              "      <td>0.516928</td>\n",
              "      <td>0.348552</td>\n",
              "      <td>1.000000</td>\n",
              "      <td>0.348552</td>\n",
              "      <td>0.000000</td>\n",
              "    </tr>\n",
              "  </tbody>\n",
              "</table>\n",
              "</div>"
            ],
            "text/plain": [
              "             f1       pre       rec       acc       sav\n",
              "RF     0.803779  0.830330  0.778873  0.867452  0.489308\n",
              "DT     0.803344  0.830203  0.778169  0.867207  0.487325\n",
              "LR     0.839700  0.896800  0.789437  0.894944  0.516649\n",
              "CS-RF  0.867147  0.845948  0.889437  0.905007  0.671977\n",
              "CS-DT  0.868631  0.855290  0.882394  0.906971  0.664042\n",
              "CS-LR  0.516928  0.348552  1.000000  0.348552  0.000000"
            ]
          },
          "metadata": {
            "tags": []
          },
          "execution_count": 25
        }
      ]
    },
    {
      "cell_type": "code",
      "metadata": {
        "id": "ihopc8epSILc",
        "colab": {
          "base_uri": "https://localhost:8080/",
          "height": 235
        },
        "outputId": "e6cb3fcd-c96e-4bed-f7cf-e3056469052b"
      },
      "source": [
        "###2\n",
        "lda_male_result"
      ],
      "execution_count": null,
      "outputs": [
        {
          "output_type": "execute_result",
          "data": {
            "text/html": [
              "<div>\n",
              "<style scoped>\n",
              "    .dataframe tbody tr th:only-of-type {\n",
              "        vertical-align: middle;\n",
              "    }\n",
              "\n",
              "    .dataframe tbody tr th {\n",
              "        vertical-align: top;\n",
              "    }\n",
              "\n",
              "    .dataframe thead th {\n",
              "        text-align: right;\n",
              "    }\n",
              "</style>\n",
              "<table border=\"1\" class=\"dataframe\">\n",
              "  <thead>\n",
              "    <tr style=\"text-align: right;\">\n",
              "      <th></th>\n",
              "      <th>f1</th>\n",
              "      <th>pre</th>\n",
              "      <th>rec</th>\n",
              "      <th>acc</th>\n",
              "      <th>sav</th>\n",
              "    </tr>\n",
              "  </thead>\n",
              "  <tbody>\n",
              "    <tr>\n",
              "      <th>RF</th>\n",
              "      <td>0.781978</td>\n",
              "      <td>0.823151</td>\n",
              "      <td>0.744727</td>\n",
              "      <td>0.859843</td>\n",
              "      <td>0.424036</td>\n",
              "    </tr>\n",
              "    <tr>\n",
              "      <th>DT</th>\n",
              "      <td>0.781978</td>\n",
              "      <td>0.823151</td>\n",
              "      <td>0.744727</td>\n",
              "      <td>0.859843</td>\n",
              "      <td>0.424036</td>\n",
              "    </tr>\n",
              "    <tr>\n",
              "      <th>LR</th>\n",
              "      <td>0.824128</td>\n",
              "      <td>0.893039</td>\n",
              "      <td>0.765091</td>\n",
              "      <td>0.889789</td>\n",
              "      <td>0.465967</td>\n",
              "    </tr>\n",
              "    <tr>\n",
              "      <th>CS-RF</th>\n",
              "      <td>0.847882</td>\n",
              "      <td>0.858955</td>\n",
              "      <td>0.837091</td>\n",
              "      <td>0.898625</td>\n",
              "      <td>0.585759</td>\n",
              "    </tr>\n",
              "    <tr>\n",
              "      <th>CS-DT</th>\n",
              "      <td>0.846522</td>\n",
              "      <td>0.856930</td>\n",
              "      <td>0.836364</td>\n",
              "      <td>0.897644</td>\n",
              "      <td>0.584258</td>\n",
              "    </tr>\n",
              "    <tr>\n",
              "      <th>CS-LR</th>\n",
              "      <td>0.504680</td>\n",
              "      <td>0.337506</td>\n",
              "      <td>1.000000</td>\n",
              "      <td>0.337506</td>\n",
              "      <td>0.000000</td>\n",
              "    </tr>\n",
              "  </tbody>\n",
              "</table>\n",
              "</div>"
            ],
            "text/plain": [
              "             f1       pre       rec       acc       sav\n",
              "RF     0.781978  0.823151  0.744727  0.859843  0.424036\n",
              "DT     0.781978  0.823151  0.744727  0.859843  0.424036\n",
              "LR     0.824128  0.893039  0.765091  0.889789  0.465967\n",
              "CS-RF  0.847882  0.858955  0.837091  0.898625  0.585759\n",
              "CS-DT  0.846522  0.856930  0.836364  0.897644  0.584258\n",
              "CS-LR  0.504680  0.337506  1.000000  0.337506  0.000000"
            ]
          },
          "metadata": {
            "tags": []
          },
          "execution_count": 21
        }
      ]
    },
    {
      "cell_type": "code",
      "metadata": {
        "id": "owtPkaD6lY6W",
        "colab": {
          "base_uri": "https://localhost:8080/",
          "height": 320
        },
        "outputId": "7d328837-835e-44be-d4b2-690a78f1c03b"
      },
      "source": [
        "plot_performance(lda_male_result)"
      ],
      "execution_count": null,
      "outputs": [
        {
          "output_type": "display_data",
          "data": {
            "image/png": "[encoded data removed]",
            "text/plain": [
              "<Figure size 720x360 with 1 Axes>"
            ]
          },
          "metadata": {
            "tags": [],
            "needs_background": "light"
          }
        }
      ]
    },
    {
      "cell_type": "code",
      "metadata": {
        "id": "GcrKaN4ySPTY",
        "colab": {
          "base_uri": "https://localhost:8080/",
          "height": 320
        },
        "outputId": "601b966e-c916-43f5-f097-e2f3f5218803"
      },
      "source": [
        "### 2\n",
        "plot_performance(lda_male_result)"
      ],
      "execution_count": null,
      "outputs": [
        {
          "output_type": "display_data",
          "data": {
            "image/png": "[encoded data removed]",
            "text/plain": [
              "<Figure size 720x360 with 1 Axes>"
            ]
          },
          "metadata": {
            "tags": [],
            "needs_background": "light"
          }
        }
      ]
    },
    {
      "cell_type": "code",
      "metadata": {
        "id": "QI-5qTrVp3FP",
        "colab": {
          "base_uri": "https://localhost:8080/",
          "height": 320
        },
        "outputId": "83758091-0c64-4eb9-e879-29b16d1a3c2d"
      },
      "source": [
        "plot_comparison(lda_male_result)"
      ],
      "execution_count": null,
      "outputs": [
        {
          "output_type": "display_data",
          "data": {
            "image/png": "[encoded data removed]",
            "text/plain": [
              "<Figure size 720x360 with 1 Axes>"
            ]
          },
          "metadata": {
            "tags": [],
            "needs_background": "light"
          }
        }
      ]
    },
    {
      "cell_type": "code",
      "metadata": {
        "id": "ss2rNT6cSTK3",
        "colab": {
          "base_uri": "https://localhost:8080/",
          "height": 320
        },
        "outputId": "3a6c9649-82ac-44c9-eceb-bd9627775e03"
      },
      "source": [
        "### 2\n",
        "plot_comparison(lda_male_result)"
      ],
      "execution_count": null,
      "outputs": [
        {
          "output_type": "display_data",
          "data": {
            "image/png": "[encoded data removed]",
            "text/plain": [
              "<Figure size 720x360 with 1 Axes>"
            ]
          },
          "metadata": {
            "tags": [],
            "needs_background": "light"
          }
        }
      ]
    },
    {
      "cell_type": "code",
      "metadata": {
        "id": "OsY5j-cO3MQM",
        "colab": {
          "base_uri": "https://localhost:8080/",
          "height": 306
        },
        "outputId": "49fd291d-a14b-45fb-9e6c-d03569e2400d"
      },
      "source": [
        "#Female classifiers performances with PCA\n",
        "compare_classifiers(X_PCA_train, X_PCA_test, f_y_train, f_y_test, f_cost_mat_train, f_cost_mat_test)\n",
        "female_result = results\n",
        "print(female_result)"
      ],
      "execution_count": null,
      "outputs": [
        {
          "output_type": "stream",
          "text": [
            "/usr/local/lib/python3.6/dist-packages/sklearn/linear_model/_logistic.py:940: ConvergenceWarning: lbfgs failed to converge (status=1):\n",
            "STOP: TOTAL NO. of ITERATIONS REACHED LIMIT.\n",
            "\n",
            "Increase the number of iterations (max_iter) or scale the data as shown in:\n",
            "    https://scikit-learn.org/stable/modules/preprocessing.html\n",
            "Please also refer to the documentation for alternative solver options:\n",
            "    https://scikit-learn.org/stable/modules/linear_model.html#logistic-regression\n",
            "  extra_warning_msg=_LOGISTIC_SOLVER_CONVERGENCE_MSG)\n",
            "/usr/local/lib/python3.6/dist-packages/costcla/models/regression.py:45: RuntimeWarning: overflow encountered in exp\n",
            "  return 1 / (1 + np.exp(-z))\n"
          ],
          "name": "stderr"
        },
        {
          "output_type": "stream",
          "text": [
            "             f1       pre       rec       acc       sav\n",
            "RF     0.747345  0.961889  0.611053  0.807315 -0.441152\n",
            "DT     0.702654  0.810736  0.620000  0.755277 -0.317361\n",
            "LR     0.783958  0.883245  0.704737  0.818851 -0.220776\n",
            "CS-RF  0.631839  0.959271  0.471053  0.743986 -0.629454\n",
            "CS-DT  0.685400  0.816594  0.590526  0.747177 -0.295429\n",
            "CS-LR  0.199513  0.434629  0.129474  0.515464 -0.919612\n"
          ],
          "name": "stdout"
        }
      ]
    },
    {
      "cell_type": "code",
      "metadata": {
        "id": "9zEN8J1uE8fm",
        "colab": {
          "base_uri": "https://localhost:8080/",
          "height": 320
        },
        "outputId": "b0b5b22e-91d3-4e38-8e42-441fe5ffc550"
      },
      "source": [
        "plot_performance(female_result)"
      ],
      "execution_count": null,
      "outputs": [
        {
          "output_type": "display_data",
          "data": {
            "image/png": "[encoded data removed]",
            "text/plain": [
              "<Figure size 720x360 with 1 Axes>"
            ]
          },
          "metadata": {
            "tags": [],
            "needs_background": "light"
          }
        }
      ]
    },
    {
      "cell_type": "code",
      "metadata": {
        "id": "dvvuKLKXE_lf",
        "colab": {
          "base_uri": "https://localhost:8080/",
          "height": 320
        },
        "outputId": "73b763ee-57a8-4c35-e1d6-679beb2b60c0"
      },
      "source": [
        "plot_comparison(female_result)"
      ],
      "execution_count": null,
      "outputs": [
        {
          "output_type": "display_data",
          "data": {
            "image/png": "[encoded data removed]",
            "text/plain": [
              "<Figure size 720x360 with 1 Axes>"
            ]
          },
          "metadata": {
            "tags": [],
            "needs_background": "light"
          }
        }
      ]
    },
    {
      "cell_type": "code",
      "metadata": {
        "id": "ei2MePhRlnBd",
        "colab": {
          "base_uri": "https://localhost:8080/",
          "height": 71
        },
        "outputId": "9e48f817-616a-475a-9226-742575de6559"
      },
      "source": [
        "# Female classifiers performances with LDA\n",
        "compare_classifiers(fX_LDA_train, fX_LDA_test, m_y_train, m_y_test, m_cost_mat_train, m_cost_mat_test)\n",
        "lda_female_result = results"
      ],
      "execution_count": null,
      "outputs": [
        {
          "output_type": "stream",
          "text": [
            "/usr/local/lib/python3.6/dist-packages/sklearn/metrics/_classification.py:1272: UndefinedMetricWarning: Precision is ill-defined and being set to 0.0 due to no predicted samples. Use `zero_division` parameter to control this behavior.\n",
            "  _warn_prf(average, modifier, msg_start, len(result))\n"
          ],
          "name": "stderr"
        }
      ]
    },
    {
      "cell_type": "code",
      "metadata": {
        "id": "STJrxotFqHaa",
        "colab": {
          "base_uri": "https://localhost:8080/",
          "height": 235
        },
        "outputId": "bf88595e-21f1-47e3-bc9d-2f1dcb6f418c"
      },
      "source": [
        "lda_female_result"
      ],
      "execution_count": null,
      "outputs": [
        {
          "output_type": "execute_result",
          "data": {
            "text/html": [
              "<div>\n",
              "<style scoped>\n",
              "    .dataframe tbody tr th:only-of-type {\n",
              "        vertical-align: middle;\n",
              "    }\n",
              "\n",
              "    .dataframe tbody tr th {\n",
              "        vertical-align: top;\n",
              "    }\n",
              "\n",
              "    .dataframe thead th {\n",
              "        text-align: right;\n",
              "    }\n",
              "</style>\n",
              "<table border=\"1\" class=\"dataframe\">\n",
              "  <thead>\n",
              "    <tr style=\"text-align: right;\">\n",
              "      <th></th>\n",
              "      <th>f1</th>\n",
              "      <th>pre</th>\n",
              "      <th>rec</th>\n",
              "      <th>acc</th>\n",
              "      <th>sav</th>\n",
              "    </tr>\n",
              "  </thead>\n",
              "  <tbody>\n",
              "    <tr>\n",
              "      <th>RF</th>\n",
              "      <td>0.466542</td>\n",
              "      <td>0.419573</td>\n",
              "      <td>0.525352</td>\n",
              "      <td>0.581247</td>\n",
              "      <td>-0.051197</td>\n",
              "    </tr>\n",
              "    <tr>\n",
              "      <th>DT</th>\n",
              "      <td>0.466688</td>\n",
              "      <td>0.419809</td>\n",
              "      <td>0.525352</td>\n",
              "      <td>0.581492</td>\n",
              "      <td>-0.050883</td>\n",
              "    </tr>\n",
              "    <tr>\n",
              "      <th>LR</th>\n",
              "      <td>0.410218</td>\n",
              "      <td>0.439614</td>\n",
              "      <td>0.384507</td>\n",
              "      <td>0.614629</td>\n",
              "      <td>-0.249186</td>\n",
              "    </tr>\n",
              "    <tr>\n",
              "      <th>CS-RF</th>\n",
              "      <td>0.601050</td>\n",
              "      <td>0.435914</td>\n",
              "      <td>0.967606</td>\n",
              "      <td>0.552283</td>\n",
              "      <td>0.299926</td>\n",
              "    </tr>\n",
              "    <tr>\n",
              "      <th>CS-DT</th>\n",
              "      <td>0.606195</td>\n",
              "      <td>0.441935</td>\n",
              "      <td>0.964789</td>\n",
              "      <td>0.563083</td>\n",
              "      <td>0.314258</td>\n",
              "    </tr>\n",
              "    <tr>\n",
              "      <th>CS-LR</th>\n",
              "      <td>0.000000</td>\n",
              "      <td>0.000000</td>\n",
              "      <td>0.000000</td>\n",
              "      <td>0.651448</td>\n",
              "      <td>-0.333454</td>\n",
              "    </tr>\n",
              "  </tbody>\n",
              "</table>\n",
              "</div>"
            ],
            "text/plain": [
              "             f1       pre       rec       acc       sav\n",
              "RF     0.466542  0.419573  0.525352  0.581247 -0.051197\n",
              "DT     0.466688  0.419809  0.525352  0.581492 -0.050883\n",
              "LR     0.410218  0.439614  0.384507  0.614629 -0.249186\n",
              "CS-RF  0.601050  0.435914  0.967606  0.552283  0.299926\n",
              "CS-DT  0.606195  0.441935  0.964789  0.563083  0.314258\n",
              "CS-LR  0.000000  0.000000  0.000000  0.651448 -0.333454"
            ]
          },
          "metadata": {
            "tags": []
          },
          "execution_count": 32
        }
      ]
    },
    {
      "cell_type": "code",
      "metadata": {
        "id": "kb4aQKFwl5Ok",
        "colab": {
          "base_uri": "https://localhost:8080/",
          "height": 320
        },
        "outputId": "6306384f-2e8b-48fe-982e-6e6f48e384a1"
      },
      "source": [
        "plot_performance(lda_female_result)"
      ],
      "execution_count": null,
      "outputs": [
        {
          "output_type": "display_data",
          "data": {
            "image/png": "[encoded data removed]",
            "text/plain": [
              "<Figure size 720x360 with 1 Axes>"
            ]
          },
          "metadata": {
            "tags": [],
            "needs_background": "light"
          }
        }
      ]
    },
    {
      "cell_type": "code",
      "metadata": {
        "id": "e-LtiBHDl7aO",
        "colab": {
          "base_uri": "https://localhost:8080/",
          "height": 320
        },
        "outputId": "51dccf97-a536-4efb-ac05-712815e839c3"
      },
      "source": [
        "plot_comparison(lda_female_result)"
      ],
      "execution_count": null,
      "outputs": [
        {
          "output_type": "display_data",
          "data": {
            "image/png": "[encoded data removed]",
            "text/plain": [
              "<Figure size 720x360 with 1 Axes>"
            ]
          },
          "metadata": {
            "tags": [],
            "needs_background": "light"
          }
        }
      ]
    },
    {
      "cell_type": "code",
      "metadata": {
        "id": "CTBMKIywtxh2"
      },
      "source": [
        ""
      ],
      "execution_count": null,
      "outputs": []
    }
  ]
}